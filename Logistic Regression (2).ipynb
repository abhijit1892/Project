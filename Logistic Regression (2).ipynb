{
 "cells": [
  {
   "cell_type": "code",
   "execution_count": 22,
   "id": "49ae39c3",
   "metadata": {},
   "outputs": [],
   "source": [
    "import numpy as np\n",
    "import pandas as pd\n",
    "from sklearn import preprocessing\n",
    "from sklearn import model_selection\n",
    "from sklearn.linear_model import LogisticRegression\n",
    "from sklearn.ensemble import RandomForestClassifier\n",
    "training=pd.read_csv('D:\\\\New folder (2)\\\\train.csv').copy()\n",
    "testing=pd.read_csv('D:\\\\New folder (2)\\\\test.csv').copy()"
   ]
  },
  {
   "cell_type": "code",
   "execution_count": 23,
   "id": "b92d5c87",
   "metadata": {},
   "outputs": [],
   "source": [
    "def count_nulls(dataset):\n",
    "    return sum(dataset.isnull())"
   ]
  },
  {
   "cell_type": "code",
   "execution_count": 24,
   "id": "ea8b308d",
   "metadata": {},
   "outputs": [],
   "source": [
    "def get_name(my_list, position):\n",
    "    return my_list[position][:4]"
   ]
  },
  {
   "cell_type": "code",
   "execution_count": 25,
   "id": "7043ca72",
   "metadata": {},
   "outputs": [],
   "source": [
    "training['Updated_Names']=training['Name'].str.split(',').apply(get_name, position=1)\n",
    "training.drop('Name', axis=1, inplace=True)"
   ]
  },
  {
   "cell_type": "code",
   "execution_count": 26,
   "id": "aaeba5c9",
   "metadata": {},
   "outputs": [],
   "source": [
    "d=dict()\n",
    "count=0\n",
    "for i in set(training['Updated_Names']):\n",
    "    d[i]=count/15\n",
    "    count+=1\n",
    "training['Names']=training['Updated_Names'].map(d)\n",
    "training.drop('Updated_Names', axis=1, inplace=True)"
   ]
  },
  {
   "cell_type": "code",
   "execution_count": 27,
   "id": "00588eb3",
   "metadata": {},
   "outputs": [],
   "source": [
    "training['sex']=training['Sex'].map({\"female\":0, \"male\":1})\n",
    "training.drop('Sex', axis=1, inplace=True)"
   ]
  },
  {
   "cell_type": "code",
   "execution_count": 28,
   "id": "19d7d55e",
   "metadata": {},
   "outputs": [],
   "source": [
    "training['pclass']=training['Pclass']/3\n",
    "training.drop('Pclass', axis=1, inplace=True)"
   ]
  },
  {
   "cell_type": "code",
   "execution_count": 29,
   "id": "aedab04d",
   "metadata": {},
   "outputs": [],
   "source": [
    "training.loc[training['Embarked'].isnull(), 'Embarked']='S'"
   ]
  },
  {
   "cell_type": "code",
   "execution_count": 30,
   "id": "11ec871f",
   "metadata": {},
   "outputs": [],
   "source": [
    "training['embarked']=training.Embarked.map({\"S\":0, \"C\":0.5, \"Q\":1})\n",
    "training.drop('Embarked', inplace=True, axis=1)"
   ]
  },
  {
   "cell_type": "code",
   "execution_count": 31,
   "id": "e1108f9b",
   "metadata": {},
   "outputs": [],
   "source": [
    "training['fare']=training.Fare/training.Fare.max()\n",
    "training.drop('Fare', inplace=True, axis=1)"
   ]
  },
  {
   "cell_type": "code",
   "execution_count": 32,
   "id": "6acfa26a",
   "metadata": {},
   "outputs": [],
   "source": [
    "training['parch']=training['Parch']/training['Parch'].max()\n",
    "training.drop('Parch', inplace=True, axis=1)"
   ]
  },
  {
   "cell_type": "code",
   "execution_count": 33,
   "id": "ec9bade1",
   "metadata": {},
   "outputs": [],
   "source": [
    "training['sibsp']=training['SibSp']/training['SibSp'].max()\n",
    "training.drop('SibSp', inplace=True, axis=1)"
   ]
  },
  {
   "cell_type": "code",
   "execution_count": 34,
   "id": "10a01105",
   "metadata": {},
   "outputs": [],
   "source": [
    "cabins=[]\n",
    "for i in training.loc[training['Cabin'].notnull(), 'Cabin']:\n",
    "    cabins.append(i[0])"
   ]
  },
  {
   "cell_type": "code",
   "execution_count": 35,
   "id": "ab5b94c4",
   "metadata": {},
   "outputs": [],
   "source": [
    "set_cabins=set(cabins)"
   ]
  },
  {
   "cell_type": "code",
   "execution_count": 36,
   "id": "9fde81bd",
   "metadata": {},
   "outputs": [
    {
     "data": {
      "text/plain": [
       "{'F': 0.0,\n",
       " 'A': 0.125,\n",
       " 'C': 0.25,\n",
       " 'D': 0.375,\n",
       " 'B': 0.5,\n",
       " 'T': 0.625,\n",
       " 'E': 0.75,\n",
       " 'G': 0.875,\n",
       " 'N': 1}"
      ]
     },
     "execution_count": 36,
     "metadata": {},
     "output_type": "execute_result"
    }
   ],
   "source": [
    "dictionary_cabin=dict()\n",
    "count=0\n",
    "for i in set_cabins:\n",
    "    dictionary_cabin[i]=count/8\n",
    "    count+=1\n",
    "dictionary_cabin['N']=1\n",
    "dictionary_cabin"
   ]
  },
  {
   "cell_type": "code",
   "execution_count": 37,
   "id": "960f0e81",
   "metadata": {},
   "outputs": [],
   "source": [
    "training.loc[training.Cabin.isnull(), 'Cabin']='N'"
   ]
  },
  {
   "cell_type": "code",
   "execution_count": 38,
   "id": "0f31e000",
   "metadata": {},
   "outputs": [],
   "source": [
    "def cabin_mapping(get_list, position):\n",
    "    return get_list[position][0]\n",
    "training['cabin']=training.Cabin.str.split(' ').apply(cabin_mapping, position=0)"
   ]
  },
  {
   "cell_type": "code",
   "execution_count": 39,
   "id": "3ee9f781",
   "metadata": {},
   "outputs": [],
   "source": [
    "training.drop('Cabin', axis=1, inplace=True)"
   ]
  },
  {
   "cell_type": "code",
   "execution_count": 40,
   "id": "2133062b",
   "metadata": {},
   "outputs": [],
   "source": [
    "training['cabins']=training.cabin.map(dictionary_cabin)\n",
    "training.drop('cabin', inplace=True, axis=1)"
   ]
  },
  {
   "cell_type": "code",
   "execution_count": 41,
   "id": "44c22c27",
   "metadata": {},
   "outputs": [],
   "source": [
    "def ticket_mapping(get_ticket, position):\n",
    "    if get_ticket[position]=='LINE':\n",
    "        return -1\n",
    "    return int(get_ticket[position])\n",
    "training['ticket']=training['Ticket'].str.split(' ').apply(ticket_mapping, position=-1)\n",
    "training.drop('Ticket', inplace=True, axis=1)"
   ]
  },
  {
   "cell_type": "code",
   "execution_count": 42,
   "id": "8e3d6269",
   "metadata": {},
   "outputs": [],
   "source": [
    "training['tickets']=training['ticket']/training.ticket.max()\n",
    "training.drop('ticket', inplace=True, axis=1)"
   ]
  },
  {
   "cell_type": "code",
   "execution_count": 44,
   "id": "16c391af",
   "metadata": {},
   "outputs": [],
   "source": [
    "training.loc[(training.Age.isnull())&(training['Survived']==0), 'Age']=training.loc[(training.Age.notnull())&(training['Survived']==0), 'Age'].median()"
   ]
  },
  {
   "cell_type": "code",
   "execution_count": 45,
   "id": "93a727af",
   "metadata": {},
   "outputs": [],
   "source": [
    "training.loc[(training.Age.isnull())&(training['Survived']==1), 'Age']=training.loc[(training.Age.notnull())&(training['Survived']==1), 'Age'].median()"
   ]
  },
  {
   "cell_type": "code",
   "execution_count": 46,
   "id": "3a711e50",
   "metadata": {},
   "outputs": [],
   "source": [
    "training['age']=training.Age/80.0\n",
    "training.drop('Age', inplace=True, axis=1)"
   ]
  },
  {
   "cell_type": "code",
   "execution_count": 47,
   "id": "75ce536c",
   "metadata": {},
   "outputs": [
    {
     "data": {
      "text/html": [
       "<div>\n",
       "<style scoped>\n",
       "    .dataframe tbody tr th:only-of-type {\n",
       "        vertical-align: middle;\n",
       "    }\n",
       "\n",
       "    .dataframe tbody tr th {\n",
       "        vertical-align: top;\n",
       "    }\n",
       "\n",
       "    .dataframe thead th {\n",
       "        text-align: right;\n",
       "    }\n",
       "</style>\n",
       "<table border=\"1\" class=\"dataframe\">\n",
       "  <thead>\n",
       "    <tr style=\"text-align: right;\">\n",
       "      <th></th>\n",
       "      <th>Survived</th>\n",
       "      <th>Names</th>\n",
       "      <th>sex</th>\n",
       "      <th>pclass</th>\n",
       "      <th>embarked</th>\n",
       "      <th>fare</th>\n",
       "      <th>parch</th>\n",
       "      <th>sibsp</th>\n",
       "      <th>cabins</th>\n",
       "      <th>tickets</th>\n",
       "      <th>age</th>\n",
       "    </tr>\n",
       "  </thead>\n",
       "  <tbody>\n",
       "    <tr>\n",
       "      <th>0</th>\n",
       "      <td>1</td>\n",
       "      <td>0.133333</td>\n",
       "      <td>0</td>\n",
       "      <td>0.666667</td>\n",
       "      <td>0.0</td>\n",
       "      <td>0.050749</td>\n",
       "      <td>0.000000</td>\n",
       "      <td>0.125</td>\n",
       "      <td>1.0</td>\n",
       "      <td>0.073651</td>\n",
       "      <td>0.3625</td>\n",
       "    </tr>\n",
       "    <tr>\n",
       "      <th>1</th>\n",
       "      <td>0</td>\n",
       "      <td>0.533333</td>\n",
       "      <td>1</td>\n",
       "      <td>1.000000</td>\n",
       "      <td>0.0</td>\n",
       "      <td>0.015713</td>\n",
       "      <td>0.000000</td>\n",
       "      <td>0.000</td>\n",
       "      <td>1.0</td>\n",
       "      <td>0.000795</td>\n",
       "      <td>0.3625</td>\n",
       "    </tr>\n",
       "    <tr>\n",
       "      <th>2</th>\n",
       "      <td>0</td>\n",
       "      <td>0.533333</td>\n",
       "      <td>1</td>\n",
       "      <td>0.666667</td>\n",
       "      <td>0.0</td>\n",
       "      <td>0.050749</td>\n",
       "      <td>0.000000</td>\n",
       "      <td>0.000</td>\n",
       "      <td>1.0</td>\n",
       "      <td>0.080822</td>\n",
       "      <td>0.4875</td>\n",
       "    </tr>\n",
       "    <tr>\n",
       "      <th>3</th>\n",
       "      <td>0</td>\n",
       "      <td>0.133333</td>\n",
       "      <td>0</td>\n",
       "      <td>1.000000</td>\n",
       "      <td>0.0</td>\n",
       "      <td>0.041136</td>\n",
       "      <td>0.666667</td>\n",
       "      <td>0.000</td>\n",
       "      <td>1.0</td>\n",
       "      <td>0.112826</td>\n",
       "      <td>0.3625</td>\n",
       "    </tr>\n",
       "    <tr>\n",
       "      <th>4</th>\n",
       "      <td>0</td>\n",
       "      <td>0.533333</td>\n",
       "      <td>1</td>\n",
       "      <td>1.000000</td>\n",
       "      <td>0.0</td>\n",
       "      <td>0.013761</td>\n",
       "      <td>0.000000</td>\n",
       "      <td>0.000</td>\n",
       "      <td>1.0</td>\n",
       "      <td>0.126422</td>\n",
       "      <td>0.3125</td>\n",
       "    </tr>\n",
       "    <tr>\n",
       "      <th>...</th>\n",
       "      <td>...</td>\n",
       "      <td>...</td>\n",
       "      <td>...</td>\n",
       "      <td>...</td>\n",
       "      <td>...</td>\n",
       "      <td>...</td>\n",
       "      <td>...</td>\n",
       "      <td>...</td>\n",
       "      <td>...</td>\n",
       "      <td>...</td>\n",
       "      <td>...</td>\n",
       "    </tr>\n",
       "    <tr>\n",
       "      <th>663</th>\n",
       "      <td>1</td>\n",
       "      <td>0.933333</td>\n",
       "      <td>0</td>\n",
       "      <td>0.666667</td>\n",
       "      <td>0.0</td>\n",
       "      <td>0.020495</td>\n",
       "      <td>0.000000</td>\n",
       "      <td>0.000</td>\n",
       "      <td>1.0</td>\n",
       "      <td>0.004800</td>\n",
       "      <td>0.2125</td>\n",
       "    </tr>\n",
       "    <tr>\n",
       "      <th>664</th>\n",
       "      <td>0</td>\n",
       "      <td>0.533333</td>\n",
       "      <td>1</td>\n",
       "      <td>1.000000</td>\n",
       "      <td>1.0</td>\n",
       "      <td>0.015127</td>\n",
       "      <td>0.000000</td>\n",
       "      <td>0.000</td>\n",
       "      <td>1.0</td>\n",
       "      <td>0.120150</td>\n",
       "      <td>0.3625</td>\n",
       "    </tr>\n",
       "    <tr>\n",
       "      <th>665</th>\n",
       "      <td>1</td>\n",
       "      <td>0.533333</td>\n",
       "      <td>1</td>\n",
       "      <td>1.000000</td>\n",
       "      <td>0.0</td>\n",
       "      <td>0.110272</td>\n",
       "      <td>0.000000</td>\n",
       "      <td>0.000</td>\n",
       "      <td>1.0</td>\n",
       "      <td>0.000516</td>\n",
       "      <td>0.4000</td>\n",
       "    </tr>\n",
       "    <tr>\n",
       "      <th>666</th>\n",
       "      <td>0</td>\n",
       "      <td>0.933333</td>\n",
       "      <td>0</td>\n",
       "      <td>1.000000</td>\n",
       "      <td>0.0</td>\n",
       "      <td>0.019202</td>\n",
       "      <td>0.000000</td>\n",
       "      <td>0.000</td>\n",
       "      <td>1.0</td>\n",
       "      <td>0.002435</td>\n",
       "      <td>0.2750</td>\n",
       "    </tr>\n",
       "    <tr>\n",
       "      <th>667</th>\n",
       "      <td>1</td>\n",
       "      <td>0.933333</td>\n",
       "      <td>0</td>\n",
       "      <td>1.000000</td>\n",
       "      <td>1.0</td>\n",
       "      <td>0.030254</td>\n",
       "      <td>0.000000</td>\n",
       "      <td>0.125</td>\n",
       "      <td>1.0</td>\n",
       "      <td>0.118411</td>\n",
       "      <td>0.3500</td>\n",
       "    </tr>\n",
       "  </tbody>\n",
       "</table>\n",
       "<p>668 rows × 11 columns</p>\n",
       "</div>"
      ],
      "text/plain": [
       "     Survived     Names  sex    pclass  embarked      fare     parch  sibsp  \\\n",
       "0           1  0.133333    0  0.666667       0.0  0.050749  0.000000  0.125   \n",
       "1           0  0.533333    1  1.000000       0.0  0.015713  0.000000  0.000   \n",
       "2           0  0.533333    1  0.666667       0.0  0.050749  0.000000  0.000   \n",
       "3           0  0.133333    0  1.000000       0.0  0.041136  0.666667  0.000   \n",
       "4           0  0.533333    1  1.000000       0.0  0.013761  0.000000  0.000   \n",
       "..        ...       ...  ...       ...       ...       ...       ...    ...   \n",
       "663         1  0.933333    0  0.666667       0.0  0.020495  0.000000  0.000   \n",
       "664         0  0.533333    1  1.000000       1.0  0.015127  0.000000  0.000   \n",
       "665         1  0.533333    1  1.000000       0.0  0.110272  0.000000  0.000   \n",
       "666         0  0.933333    0  1.000000       0.0  0.019202  0.000000  0.000   \n",
       "667         1  0.933333    0  1.000000       1.0  0.030254  0.000000  0.125   \n",
       "\n",
       "     cabins   tickets     age  \n",
       "0       1.0  0.073651  0.3625  \n",
       "1       1.0  0.000795  0.3625  \n",
       "2       1.0  0.080822  0.4875  \n",
       "3       1.0  0.112826  0.3625  \n",
       "4       1.0  0.126422  0.3125  \n",
       "..      ...       ...     ...  \n",
       "663     1.0  0.004800  0.2125  \n",
       "664     1.0  0.120150  0.3625  \n",
       "665     1.0  0.000516  0.4000  \n",
       "666     1.0  0.002435  0.2750  \n",
       "667     1.0  0.118411  0.3500  \n",
       "\n",
       "[668 rows x 11 columns]"
      ]
     },
     "execution_count": 47,
     "metadata": {},
     "output_type": "execute_result"
    }
   ],
   "source": [
    "training"
   ]
  },
  {
   "cell_type": "code",
   "execution_count": 48,
   "id": "c73bda52",
   "metadata": {},
   "outputs": [],
   "source": [
    "values=training.values\n",
    "from sklearn.model_selection import train_test_split\n",
    "X=values[:, 1:]\n",
    "Y=values[:, 0]\n",
    "x_train, x_test, y_train, y_test=train_test_split(X, Y)"
   ]
  },
  {
   "cell_type": "code",
   "execution_count": 58,
   "id": "80231990",
   "metadata": {},
   "outputs": [],
   "source": [
    "# Fit the Logistic Regression model\n",
    "clf = LogisticRegression(n_jobs=-1, solver=\"saga\", max_iter=20000, C=10, tol=0.000001, class_weight=\"balanced\")\n",
    "clf.fit(x_train, y_train)\n",
    "\n",
    "# Make predictions on the test set\n",
    "predictions = clf.predict(x_test)"
   ]
  },
  {
   "cell_type": "code",
   "execution_count": 59,
   "id": "5396ceb0",
   "metadata": {},
   "outputs": [],
   "source": [
    "# Create a DataFrame to store predictions\n",
    "prediction_df = pd.DataFrame({'Actual': y_test, 'Predicted': predictions})\n"
   ]
  },
  {
   "cell_type": "code",
   "execution_count": 60,
   "id": "a8486eab",
   "metadata": {},
   "outputs": [],
   "source": [
    "# Save the predictions to a CSV file\n",
    "prediction_df.to_csv('prediction.csv', index=False)\n"
   ]
  },
  {
   "cell_type": "code",
   "execution_count": 61,
   "id": "00118d2c",
   "metadata": {},
   "outputs": [],
   "source": [
    "# Your previous code for data preprocessing and model training here...\n",
    "\n",
    "# Fit the Logistic Regression model\n",
    "clf = LogisticRegression(n_jobs=-1, solver=\"saga\", max_iter=20000, C=10, tol=0.000001, class_weight=\"balanced\")\n",
    "clf.fit(x_train, y_train)\n",
    "\n",
    "# Make predictions on the test set\n",
    "predictions = clf.predict(x_test)\n",
    "\n",
    "# Create a DataFrame to store predictions\n",
    "prediction_df = pd.DataFrame({'Actual': y_test, 'Predicted': predictions})\n",
    "\n",
    "# Save the predictions to a CSV file\n",
    "prediction_df.to_csv('prediction.csv', index=False)\n"
   ]
  }
 ],
 "metadata": {
  "kernelspec": {
   "display_name": "Python 3 (ipykernel)",
   "language": "python",
   "name": "python3"
  },
  "language_info": {
   "codemirror_mode": {
    "name": "ipython",
    "version": 3
   },
   "file_extension": ".py",
   "mimetype": "text/x-python",
   "name": "python",
   "nbconvert_exporter": "python",
   "pygments_lexer": "ipython3",
   "version": "3.11.3"
  }
 },
 "nbformat": 4,
 "nbformat_minor": 5
}
