{
 "cells": [
  {
   "cell_type": "markdown",
   "id": "c4a82db3",
   "metadata": {},
   "source": [
    "By collecting the data using TMDb API one can recommend TV Shows, Movies and all sorts of entertainment on the basis of user’s affinity to specific genres, actors, likes and dislikes.find details about upcoming TV Shows and Movies.find what is the most popular and/ or exclusive/new content at a given time."
   ]
  },
  {
   "cell_type": "code",
   "execution_count": null,
   "id": "2e2c5e9f",
   "metadata": {},
   "outputs": [],
   "source": [
    "Find the 'id' of the movie \"Andhadhun\" using TMDb API.\n",
    "Output Format:\n",
    "Print the id of the movie."
   ]
  },
  {
   "cell_type": "code",
   "execution_count": 1,
   "id": "249b54dc",
   "metadata": {},
   "outputs": [
    {
     "name": "stdout",
     "output_type": "stream",
     "text": [
      "534780\n"
     ]
    }
   ],
   "source": [
    "import requests\n",
    "\n",
    "\n",
    "api_key = 'API_KEY'\n",
    "\n",
    "\n",
    "movie_title = 'Andhadhun'\n",
    "\n",
    "\n",
    "url = f'https://api.themoviedb.org/3/search/movie?api_key={api_key}&query={movie_title}'\n",
    "\n",
    "\n",
    "response = requests.get(url)\n",
    "data = response.json()\n",
    "\n",
    "if data.get('results') and len(data['results']) > 0:\n",
    "    movie_id = data['results'][0]['id']\n",
    "    print(movie_id)"
   ]
  },
  {
   "cell_type": "code",
   "execution_count": null,
   "id": "96010075",
   "metadata": {},
   "outputs": [],
   "source": [
    "Fetch the company id company 'Marvel Studios' using TMDb. Print the id."
   ]
  },
  {
   "cell_type": "code",
   "execution_count": 2,
   "id": "a566f57b",
   "metadata": {},
   "outputs": [
    {
     "name": "stdout",
     "output_type": "stream",
     "text": [
      "420\n"
     ]
    }
   ],
   "source": [
    "import requests\n",
    "\n",
    "# Set your TMDb API key\n",
    "api_key = 'API_KEY'\n",
    "\n",
    "# Set the company name\n",
    "company_name = 'Marvel Studios'\n",
    "\n",
    "# Construct the API endpoint URL for company search\n",
    "url = f'https://api.themoviedb.org/3/search/company?api_key={api_key}&query={company_name}'\n",
    "\n",
    "# Send the GET request\n",
    "response = requests.get(url)\n",
    "data = response.json()\n",
    "\n",
    "# Extract the company ID if there are results\n",
    "if data.get('results') and len(data['results']) > 0:\n",
    "    company_id = data['results'][0]['id']\n",
    "    print(company_id)"
   ]
  },
  {
   "cell_type": "code",
   "execution_count": null,
   "id": "41989501",
   "metadata": {},
   "outputs": [],
   "source": [
    "Find the vote count and vote average of the movie \"3 Idiots\" using the TMDb API\n",
    "Output format: Vote Count , Vote Average\n",
    "\n"
   ]
  },
  {
   "cell_type": "code",
   "execution_count": 5,
   "id": "979a184b",
   "metadata": {},
   "outputs": [
    {
     "name": "stdout",
     "output_type": "stream",
     "text": [
      "2125 7.99\n"
     ]
    }
   ],
   "source": [
    "import requests\n",
    "\n",
    "# Set your TMDb API key\n",
    "api_key = 'API_KEY'\n",
    "\n",
    "# Set the movie title\n",
    "movie_title = '3 Idiots'\n",
    "\n",
    "# Construct the API endpoint URL for movie search\n",
    "url = f'https://api.themoviedb.org/3/search/movie?api_key={api_key}&query={movie_title}'\n",
    "\n",
    "# Send the GET request\n",
    "response = requests.get(url)\n",
    "data = response.json()\n",
    "\n",
    "# Extract the vote count and vote average if there are results\n",
    "if data.get('results') and len(data['results']) > 0:\n",
    "    vote_count = data['results'][0]['vote_count']\n",
    "    vote_average = data['results'][0]['vote_average']\n",
    "    print(f\"{vote_count} {vote_average}\")"
   ]
  },
  {
   "cell_type": "markdown",
   "id": "2f1ad5ad",
   "metadata": {},
   "source": [
    "Fetch the names of top 5 similar movies to 'Inception' from the TMDb API.\n",
    "Note\n",
    "While fetching the movie id, use the \"original_title\" field not the \"title\". Because the \"title\" field may contain duplicate values.\n",
    "Output Format:\n",
    "Print the name of the movies in a new line.\n",
    "movie_name_1\n",
    "movie_name_2\n",
    "and so on"
   ]
  },
  {
   "cell_type": "code",
   "execution_count": 6,
   "id": "32b962a7",
   "metadata": {},
   "outputs": [
    {
     "name": "stdout",
     "output_type": "stream",
     "text": [
      "True\n",
      "Touching the Void\n",
      "Baby's Day Out\n",
      "The American Friend\n",
      "Angel-A\n"
     ]
    }
   ],
   "source": [
    "import requests\n",
    "API_Key = \"API_KEY\" \n",
    "param = {'api_key': API_Key}\n",
    "\n",
    "\n",
    "params = {'api_key': API_Key, 'query': 'Inception'}\n",
    "res = requests.get('https://api.themoviedb.org/3/search/movie', params = params)\n",
    "res.status_code\n",
    "res = requests.get('https://api.themoviedb.org/3/movie/27205/similar', params = param)\n",
    "for i in res.json()['results'][:5]:\n",
    "    print(i['title'])"
   ]
  },
  {
   "cell_type": "markdown",
   "id": "ca7bfd7a",
   "metadata": {},
   "source": [
    "Fetch the top rated english movies in the US region using the TMDb API. From the result, print the first 10 movies which have original language as english. Also print their genres.\n",
    "Note: Do not use the search/movies API for finding genres.\n",
    "Output Format:\n",
    "movie_name_1 - genre_1, genre_2 ....\n",
    "and so on.."
   ]
  },
  {
   "cell_type": "code",
   "execution_count": 7,
   "id": "23671506",
   "metadata": {},
   "outputs": [
    {
     "name": "stdout",
     "output_type": "stream",
     "text": [
      "The Godfather - Drama, Crime,\n",
      "The Shawshank Redemption - Drama, Crime,\n",
      "The Godfather Part II - Drama, Crime,\n",
      "Schindler's List - Drama, History, War,\n",
      "12 Angry Men - Drama,\n",
      "The Dark Knight - Drama, Action, Crime, Thriller,\n",
      "The Green Mile - Fantasy, Drama, Crime,\n",
      "Pulp Fiction - Thriller, Crime,\n",
      "Forrest Gump - Comedy, Drama, Romance,\n",
      "The Lord of the Rings: The Return of the King - Adventure, Fantasy, Action,\n"
     ]
    }
   ],
   "source": [
    "import requests\n",
    "\n",
    "param = {\n",
    "    'api_key': 'API_KEY',\n",
    "    'language': 'en-US',\n",
    "    'region': 'US',\n",
    "    'sort_by': 'vote_average.desc',\n",
    "    'include_adult': 'false',\n",
    "    'include_video': 'false',\n",
    "    'page': 1,\n",
    "    'vote_count.gte': 500,\n",
    "    'with_original_language': 'en'\n",
    "}\n",
    "\n",
    "\n",
    "genre_url = 'https://api.themoviedb.org/3/genre/movie/list'\n",
    "param['language'] = 'en-US'\n",
    "r = requests.get(genre_url, params=param)\n",
    "#print(r.url)\n",
    "genre_data = r.json()\n",
    "genres = {}\n",
    "\n",
    "for genre in genre_data['genres']:\n",
    "    genres[genre['id']] = genre['name']\n",
    "\n",
    "\n",
    "discover_url = 'https://api.themoviedb.org/3/discover/movie'\n",
    "param['language'] = 'en-US'\n",
    "r = requests.get(discover_url, params=param)\n",
    "#print(r.url)\n",
    "data = r.json()\n",
    "\n",
    "\n",
    "count = 0\n",
    "for movie in data['results']:\n",
    "    if count == 10:\n",
    "        break\n",
    "    movie_name = movie['original_title']\n",
    "    genre_ids = movie['genre_ids']\n",
    "    genre_names = [genres[genre_id] for genre_id in genre_ids]\n",
    "    genre_string = ', '.join(genre_names)\n",
    "    print(f\"{movie_name} - {genre_string},\")\n",
    "    count += 1"
   ]
  },
  {
   "cell_type": "markdown",
   "id": "fd071c83",
   "metadata": {},
   "source": [
    "Find the name and birthplace of the present most popular person according to TMDb API.\n",
    "Output Format:\n",
    "id\n",
    "name - birthplace"
   ]
  },
  {
   "cell_type": "code",
   "execution_count": 8,
   "id": "e52336d2",
   "metadata": {},
   "outputs": [
    {
     "name": "stdout",
     "output_type": "stream",
     "text": [
      "169337\n",
      "Katherine LaNasa - New Orleans, Louisiana, USA\n"
     ]
    }
   ],
   "source": [
    "import requests \n",
    "api_key = \"API_KEY\" \n",
    "api_link = \"https://api.themoviedb.org/3\" \n",
    "params = {'api_key':api_key} \n",
    "header = {'Accept': 'application/json'} \n",
    "response = requests.get(api_link + \"/person/popular\", headers = header, params=params) \n",
    "data = response.json() \n",
    "id_of_most_popular = data.get('results')[0].get('id') \n",
    "print(id_of_most_popular) \n",
    "name_of_most_popular = data.get('results')[0].get('name') \n",
    "response2 = requests.get(api_link + \"/person/\" + str(id_of_most_popular), headers = header, params=params) \n",
    "data2 = response2.json() \n",
    "print(name_of_most_popular,\"-\", data2.get(\"place_of_birth\"))\n",
    "\n"
   ]
  },
  {
   "cell_type": "code",
   "execution_count": null,
   "id": "c12cac77",
   "metadata": {},
   "outputs": [],
   "source": [
    "Fetch the Instagram and Twitter handle of Indian Actress \"Alia Bhatt\" from the TMDb API.\n",
    "Output Format\n",
    "Print the Instagram and Twitter IDs space separated.\n",
    "instagram_id twitter_id"
   ]
  },
  {
   "cell_type": "code",
   "execution_count": 9,
   "id": "7ba521c5",
   "metadata": {},
   "outputs": [
    {
     "name": "stdout",
     "output_type": "stream",
     "text": [
      "aliaabhatt Aliaa08\n"
     ]
    }
   ],
   "source": [
    "import requests\n",
    "\n",
    "param = {'api_key' : \"API_KEY\"}\n",
    "search_url = 'https://api.themoviedb.org/3/search/person'\n",
    "param['query'] = 'Alia Bhatt'\n",
    "r = requests.get(search_url, params = param)\n",
    "#print(r.url)\n",
    "data = r.json()\n",
    "if data['results']:\n",
    "    person_id = data['results'][0]['id']\n",
    "    id_url = f\"https://api.themoviedb.org/3/person/{person_id}/external_ids\"\n",
    "    r = requests.get(id_url, params = param)\n",
    "    #print(r.url)\n",
    "    person_data = r.json()\n",
    "    print(person_data['instagram_id'], person_data['twitter_id'])\n",
    "\n"
   ]
  },
  {
   "cell_type": "markdown",
   "id": "004e8896",
   "metadata": {},
   "source": [
    "Fetch the names of the character played by Tom Cruise in the movies:\n",
    "Top Gun\n",
    "Mission: Impossible - Fallout\n",
    "Minority Report\n",
    "Edge of Tomorrow\n",
    "Output Format:\n",
    "Print the names of the characters played by Tom Cruise line separated, in the respective order given in question."
   ]
  },
  {
   "cell_type": "code",
   "execution_count": 10,
   "id": "2df6593a",
   "metadata": {},
   "outputs": [
    {
     "name": "stdout",
     "output_type": "stream",
     "text": [
      "Lt. Pete 'Maverick' Mitchell\n",
      "Ethan Hunt\n",
      "Chief John Anderton\n",
      "Maj. William 'Bill' Cage\n"
     ]
    }
   ],
   "source": [
    "import requests\n",
    "\n",
    "# Set your TMDb API key\n",
    "api_key = 'API_KEY'\n",
    "\n",
    "# Define a dictionary with the movie titles as keys and their respective IDs as values\n",
    "movies = {\n",
    "    'Top Gun': 744,\n",
    "    'Mission: Impossible - Fallout': 353081,\n",
    "    'Minority Report': 180,\n",
    "    'Edge of Tomorrow': 137113\n",
    "}\n",
    "\n",
    "# Iterate over the movies dictionary\n",
    "for movie_title, movie_id in movies.items():\n",
    "    # Construct the API endpoint URL for movie credits\n",
    "    url = f'https://api.themoviedb.org/3/movie/{movie_id}/credits?api_key={api_key}'\n",
    "\n",
    "    # Send the GET request\n",
    "    response = requests.get(url)\n",
    "    data = response.json()\n",
    "\n",
    "    # Find the character played by Tom Cruise\n",
    "    for cast_member in data['cast']:\n",
    "        if cast_member['name'] == 'Tom Cruise':\n",
    "            character_name = cast_member['character']\n",
    "            print(character_name)\n",
    "            break\n",
    "    else:\n",
    "        print(f\"No character found for Tom Cruise in '{movie_title}'.\")"
   ]
  },
  {
   "cell_type": "code",
   "execution_count": null,
   "id": "5cc5f26a",
   "metadata": {},
   "outputs": [],
   "source": [
    "Did James McAvoy play a role in the movie Deadpool 2. Print Yes or No."
   ]
  },
  {
   "cell_type": "code",
   "execution_count": 11,
   "id": "a10f9cc2",
   "metadata": {},
   "outputs": [
    {
     "name": "stdout",
     "output_type": "stream",
     "text": [
      "Yes\n"
     ]
    }
   ],
   "source": [
    "import requests\n",
    "\n",
    "# Set your TMDb API key\n",
    "api_key = 'API_KEY'\n",
    "\n",
    "# Set the movie title\n",
    "movie_title = 'Deadpool 2'\n",
    "\n",
    "# Construct the API endpoint URL for movie search\n",
    "url = f'https://api.themoviedb.org/3/search/movie?api_key={api_key}&query={movie_title}'\n",
    "\n",
    "# Send the GET request\n",
    "response = requests.get(url)\n",
    "data = response.json()\n",
    "\n",
    "# Check if there are any search results\n",
    "if 'results' in data and len(data['results']) > 0:\n",
    "    # Get the movie ID for the first search result\n",
    "    movie_id = data['results'][0]['id']\n",
    "\n",
    "    # Construct the API endpoint URL for movie credits\n",
    "    credits_url = f'https://api.themoviedb.org/3/movie/{movie_id}/credits?api_key={api_key}'\n",
    "\n",
    "    # Send the GET request for movie credits\n",
    "    credits_response = requests.get(credits_url)\n",
    "    credits_data = credits_response.json()\n",
    "\n",
    "    # Check if James McAvoy is listed in the cast\n",
    "    for cast_member in credits_data['cast']:\n",
    "        if cast_member['name'] == 'James McAvoy':\n",
    "            print(\"Yes\")\n",
    "            break\n",
    "    else:\n",
    "        print(\"No\")\n",
    "else:\n",
    "    print(f\"Unable to find the movie '{movie_title}'.\")"
   ]
  },
  {
   "cell_type": "markdown",
   "id": "f1428d8a",
   "metadata": {},
   "source": [
    "Using the result obtained in previous question, find out if James McAvoy was credited for his role in movie Deadpool 2. Print Yes or No."
   ]
  },
  {
   "cell_type": "code",
   "execution_count": 12,
   "id": "4412894c",
   "metadata": {},
   "outputs": [
    {
     "name": "stdout",
     "output_type": "stream",
     "text": [
      "No\n"
     ]
    }
   ],
   "source": [
    "import requests\n",
    "\n",
    "# Set your TMDb API key\n",
    "api_key = 'API_KEY'\n",
    "\n",
    "# Set the movie ID obtained from the previous question\n",
    "movie_id = 383498\n",
    "\n",
    "# Construct the API endpoint URL for movie credits\n",
    "url = f'https://api.themoviedb.org/3/movie/{movie_id}/credits?api_key={api_key}'\n",
    "\n",
    "# Send the GET request\n",
    "response = requests.get(url)\n",
    "data = response.json()\n",
    "\n",
    "# Check if James McAvoy is credited for his role in the movie\n",
    "for crew_member in data['crew']:\n",
    "    if crew_member['name'] == 'James McAvoy' and crew_member['known_for_department'] == 'Acting':\n",
    "        print(\"Yes\")\n",
    "        break\n",
    "else:\n",
    "    print(\"No\")"
   ]
  },
  {
   "cell_type": "code",
   "execution_count": null,
   "id": "a3777140",
   "metadata": {},
   "outputs": [],
   "source": [
    "Fetch the overview of the TV Show \"FRIENDS\" using TMDb API.\n",
    "Output Format:\n",
    "Print the Overview."
   ]
  },
  {
   "cell_type": "code",
   "execution_count": 13,
   "id": "35836b60",
   "metadata": {},
   "outputs": [
    {
     "name": "stdout",
     "output_type": "stream",
     "text": [
      "Six young people from New York City, on their own and struggling to survive in the real world, find the companionship, comfort and support they get from each other to be the perfect antidote to the pressures of life.\n",
      "Friends is a short-lived kids-oriented drama that aired in the spring of 1979. The series, which was produced by Aaron Spelling and aired on ABC, starred Charlie Aiken, Jill Whelan, and Jarrod Johnson as three Southern Californian 11-year-olds. Karen Morrow also appeared. Only five one-hour episodes were produced before the series was cancelled.\n",
      "\n"
     ]
    }
   ],
   "source": [
    "import requests\n",
    "## Write your code here\n",
    "\n",
    "API_url = \"https://api.themoviedb.org/3/search/tv\"\n",
    "\n",
    "api_key = \"API_KEY\"\n",
    "headers = {'Accept': 'application/json'}\n",
    "params = {'query': 'FRIENDS', 'api_key':api_key}\n",
    "\n",
    "response = requests.get(API_url, headers = headers, params = params)\n",
    "\n",
    "python_data = response.json()\n",
    "result = python_data.get('results')\n",
    "for i in result:\n",
    "    if i['name'] == \"Friends\":\n",
    "        print(i['overview'])\n",
    "        "
   ]
  },
  {
   "cell_type": "code",
   "execution_count": null,
   "id": "31d091c7",
   "metadata": {},
   "outputs": [],
   "source": [
    "Fetch the name and air date of S06E05 of the TV Show 'The Big Bang Theory' from TMDb API.\n",
    "Output Format:\n",
    "episode_name - air_date"
   ]
  },
  {
   "cell_type": "code",
   "execution_count": 14,
   "id": "e78fd910",
   "metadata": {},
   "outputs": [
    {
     "name": "stdout",
     "output_type": "stream",
     "text": [
      "The Holographic Excitation - 2012-10-25\n"
     ]
    }
   ],
   "source": [
    "import requests\n",
    "\n",
    "# Set your TMDb API key\n",
    "api_key = 'API_KEY'\n",
    "\n",
    "# Set the TV show title\n",
    "tv_show_title = 'The Big Bang Theory'\n",
    "\n",
    "# Set the season number and episode number\n",
    "season_number = 6\n",
    "episode_number = 5\n",
    "\n",
    "# Construct the API endpoint URL for TV show search\n",
    "search_url = f'https://api.themoviedb.org/3/search/tv?api_key={api_key}&query={tv_show_title}'\n",
    "\n",
    "# Send the GET request for TV show search\n",
    "search_response = requests.get(search_url)\n",
    "search_data = search_response.json()\n",
    "\n",
    "# Check if there are any search results\n",
    "if 'results' in search_data and len(search_data['results']) > 0:\n",
    "    # Get the TV show ID for the first search result\n",
    "    tv_show_id = search_data['results'][0]['id']\n",
    "\n",
    "    # Construct the API endpoint URL for episode details\n",
    "    episode_url = f'https://api.themoviedb.org/3/tv/{tv_show_id}/season/{season_number}/episode/{episode_number}?api_key={api_key}'\n",
    "\n",
    "    # Send the GET request for episode details\n",
    "    episode_response = requests.get(episode_url)\n",
    "    episode_data = episode_response.json()\n",
    "\n",
    "    # Check if the episode details are available\n",
    "    if 'name' in episode_data and 'air_date' in episode_data:\n",
    "        episode_name = episode_data['name']\n",
    "        air_date = episode_data['air_date']\n",
    "        print(f\"{episode_name} - {air_date}\")\n",
    "    else:\n",
    "        print(f\"Unable to find the episode 'S{season_number:02d}E{episode_number:02d}' of '{tv_show_title}'.\")\n",
    "else:\n",
    "    print(f\"Unable to find the TV show '{tv_show_title}'.\")"
   ]
  },
  {
   "cell_type": "code",
   "execution_count": null,
   "id": "efcc4195",
   "metadata": {},
   "outputs": [],
   "source": [
    "Fetch the trending TV Shows for the week from the TMDb API and print the taglines of the top 5 shows. If there is no tagline, print 'Empty' instead\n",
    "Output Format:\n",
    "Print the taglines in new line."
   ]
  },
  {
   "cell_type": "code",
   "execution_count": null,
   "id": "59a600cb",
   "metadata": {},
   "outputs": [],
   "source": [
    "import requests\n",
    "api_key = \"API_KEY\" \n",
    "api_link = \"https://api.themoviedb.org/3\" \n",
    "params = {'api_key':api_key} \n",
    "header = {'Accept': 'application/json'} \n",
    "response = requests.get(api_link + \"/trending/tv/week\", headers = header, params = params) \n",
    "data = response.json() \n",
    "results = data.get(\"results\") \n",
    "data \n",
    "ids=[] \n",
    "for result in results[:5]: \n",
    "    ids.append(result.get(\"id\")) \n",
    "for id in ids: \n",
    "    response2 = requests.get(api_link + \"/tv/\" + str(id) , headers = header, params = params) \n",
    "    data2 = response2.json() \n",
    "    if (data2.get(\"tagline\")) != \"\": \n",
    "        print(data2.get(\"tagline\"))\n",
    "    else: \n",
    "        print('Empty')\n"
   ]
  },
  {
   "cell_type": "code",
   "execution_count": null,
   "id": "b94f4f31",
   "metadata": {},
   "outputs": [],
   "source": [
    "Print the names of all the TV shows to be aired today whose original language is english.\n",
    "Output Format:\n",
    "Print the name of each TV show in a new line.\n"
   ]
  },
  {
   "cell_type": "code",
   "execution_count": 15,
   "id": "b176cc47",
   "metadata": {},
   "outputs": [
    {
     "name": "stdout",
     "output_type": "stream",
     "text": [
      "Love Island\n",
      "Futurama\n",
      "Emmerdale\n",
      "Ridiculousness\n",
      "PBS NewsHour\n",
      "Coronation Street\n",
      "EastEnders\n",
      "WWE Raw\n",
      "Naked News\n",
      "LIVE with Kelly and Mark\n",
      "General Hospital\n",
      "Days of Our Lives\n",
      "Miracle Workers\n",
      "Hollyoaks\n",
      "Shortland Street\n",
      "Hot Bench\n",
      "Secrets of Playboy\n",
      "Gabby's Dollhouse\n",
      "90 Day Fiancé: Pillow Talk\n",
      "Aussie Gold Hunters\n",
      "Breeders\n",
      "WWE Raw Talk\n",
      "Only Connect\n",
      "YHC: 2nd Generation\n",
      "American Ninja Warrior\n",
      "Police Interceptors\n",
      "Have You Been Paying Attention?\n",
      "The Bachelorette\n",
      "Being The Elite\n",
      "People Magazine Investigates\n",
      "90 Day Fiancé: The Other Way\n",
      "Wolf\n",
      "University Challenge\n",
      "Bugs Bunny Builders\n",
      "History's Greatest Mysteries\n",
      "Below Deck Down Under\n",
      "Zindagi Ki Mehek\n",
      "Pointless\n",
      "Rubble & Crew\n",
      "Chibi Tiny Tales\n",
      "BBQ Brawl\n",
      "SpongeBob SquarePants\n",
      "Master Minds\n",
      "A2K\n",
      "Stars on Mars\n",
      "Crime Scene Kitchen\n",
      "Street Outlaws: Mega Cash Days\n",
      "Earth\n",
      "Batwheels\n",
      "The Bold and the Beautiful\n",
      "Claim to Fame\n",
      "Dreaming Whilst Black\n",
      "Battle of the Generations\n",
      "Breaking News: No Laugh Newsroom\n",
      "Lil Jon Wants to Do What?\n",
      "East Harbour Heroes\n",
      "Rewind The '90s\n",
      "CrimeDoor TV\n",
      "Janey and Ashley Get a Real Job\n",
      "Where We Call Home\n",
      "The Unique Boutique\n",
      "A Stitch through Time\n",
      "Mae Pu Priao\n",
      "Dave & Neil\n",
      "Distant Trust\n",
      "The Yorkshire Auction House\n",
      "Hunted\n",
      "Magandang Dilag\n",
      "Emak Gue Jawara\n",
      "Oggy Oggy\n",
      "Marvellous Love\n",
      "Mother, May I Murder?\n",
      "Ugliest House in America\n",
      "The Traitors NZ\n",
      "Kim vs Kanye: The Divorce\n"
     ]
    }
   ],
   "source": [
    "import requests\n",
    "api_key = \"API_KEY\" \n",
    "api_link = \"https://api.themoviedb.org/3\" \n",
    "params = {'language':\"en\" , 'api_key':api_key} \n",
    "header = {'Accept': 'application/json'} \n",
    "response = requests.get(api_link + \"/tv/airing_today/\", headers = header, params = params) \n",
    "data= response.json() \n",
    "page_number = data.get('total_pages')\n",
    "for i in range(1, page_number + 1): \n",
    "    params = {'language':\"en\" , 'api_key':api_key, 'page':i} \n",
    "    response = requests.get(api_link + \"/tv/airing_today/\", headers = header, params = params) \n",
    "    data= response.json() \n",
    "    results = data.get('results') \n",
    "    for result in results: \n",
    "        if result.get('original_language') == 'en': \n",
    "            print(result.get('name'))\n",
    "\n"
   ]
  },
  {
   "cell_type": "code",
   "execution_count": null,
   "id": "81da80de",
   "metadata": {},
   "outputs": [],
   "source": [
    "Count the number of males and females in the cast of \"Money Heist\" using the TMDb API.\n",
    "Output Format:\n",
    "Print the count of male and female space separated.\n",
    "male_count female_count"
   ]
  },
  {
   "cell_type": "code",
   "execution_count": 16,
   "id": "78e0ae49",
   "metadata": {},
   "outputs": [
    {
     "name": "stdout",
     "output_type": "stream",
     "text": [
      "10 5\n"
     ]
    }
   ],
   "source": [
    "import requests\n",
    "\n",
    "# Set your TMDb API key\n",
    "api_key = 'API_KEY'\n",
    "\n",
    "# Set the TV show title\n",
    "tv_show_title = 'Money Heist'\n",
    "\n",
    "# Construct the API endpoint URL for TV show search\n",
    "search_url = f'https://api.themoviedb.org/3/search/tv?api_key={api_key}&query={tv_show_title}'\n",
    "\n",
    "# Send the GET request for TV show search\n",
    "search_response = requests.get(search_url)\n",
    "search_data = search_response.json()\n",
    "\n",
    "# Check if there are any search results\n",
    "if 'results' in search_data and len(search_data['results']) > 0:\n",
    "    # Get the TV show ID for the first search result\n",
    "    tv_show_id = search_data['results'][0]['id']\n",
    "\n",
    "    # Construct the API endpoint URL for TV show credits\n",
    "    credits_url = f'https://api.themoviedb.org/3/tv/{tv_show_id}/credits?api_key={api_key}'\n",
    "\n",
    "    # Send the GET request for TV show credits\n",
    "    credits_response = requests.get(credits_url)\n",
    "    credits_data = credits_response.json()\n",
    "\n",
    "    # Initialize counters for males and females\n",
    "    male_count = 0\n",
    "    female_count = 0\n",
    "\n",
    "    # Check if the credits data is available\n",
    "    if 'cast' in credits_data:\n",
    "        # Count the number of males and females in the cast\n",
    "        for cast_member in credits_data['cast']:\n",
    "            gender = cast_member.get('gender')\n",
    "            if gender == 1:\n",
    "                female_count += 1\n",
    "            elif gender == 2:\n",
    "                male_count += 1\n",
    "\n",
    "    # Print the count of males and females\n",
    "    print(f\"{male_count} {female_count}\")\n",
    "else:\n",
    "    print(f\"Unable to find the TV show '{tv_show_title}'.\")"
   ]
  }
 ],
 "metadata": {
  "kernelspec": {
   "display_name": "Python 3 (ipykernel)",
   "language": "python",
   "name": "python3"
  },
  "language_info": {
   "codemirror_mode": {
    "name": "ipython",
    "version": 3
   },
   "file_extension": ".py",
   "mimetype": "text/x-python",
   "name": "python",
   "nbconvert_exporter": "python",
   "pygments_lexer": "ipython3",
   "version": "3.11.3"
  }
 },
 "nbformat": 4,
 "nbformat_minor": 5
}
